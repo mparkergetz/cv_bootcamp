{
 "cells": [
  {
   "cell_type": "markdown",
   "metadata": {},
   "source": [
    "# **CV Bootcamp**"
   ]
  },
  {
   "cell_type": "markdown",
   "metadata": {},
   "source": [
    "### Overall goals:\n",
    "- Train object detection model\n",
    "- Evaluate model performance\n",
    "- Test model on new data\n"
   ]
  },
  {
   "cell_type": "markdown",
   "metadata": {},
   "source": [
    "<img src=\"media/bombus_bbox.jpg\" alt=\"Bee bbox\" width=\"600\">"
   ]
  },
  {
   "cell_type": "markdown",
   "metadata": {},
   "source": [
    "___\n",
    "## **Process outline:**\n",
    "### Collect data >> QC/organize data >> Annotate images >> Train model >> Evaluate and retrain >> Test and deploy model\n",
    "___"
   ]
  },
  {
   "cell_type": "markdown",
   "metadata": {
    "vscode": {
     "languageId": "plaintext"
    }
   },
   "source": [
    "We have three image datasets: \n",
    "\n",
    "### Fly images\n",
    "- Collected in field and lab\n",
    "- Aim: find all flies and categorize by species/sex\n",
    "\n",
    "### Cocoon images\n",
    "- Collected over two years; includes 3 species from genus *Osmia*\n",
    "- Aim: classify cocoons by species\n",
    "\n",
    "### Camera trap images\n",
    "- Collected over two years at various field locations\n",
    "- +2k images annotated to class/genus/species\n",
    "- Aim: find all insects and classify to lowest taxon possible\n",
    "# \n",
    "***\n"
   ]
  },
  {
   "cell_type": "markdown",
   "metadata": {
    "vscode": {
     "languageId": "plaintext"
    }
   },
   "source": [
    "## **Annotation**"
   ]
  },
  {
   "cell_type": "markdown",
   "metadata": {},
   "source": [
    "<img src=\"media/labelimg.jpeg\" alt=\"Bee bbox\" width=\"600\">"
   ]
  },
  {
   "cell_type": "markdown",
   "metadata": {},
   "source": [
    "- An effective model depends on a well annotated dataset.\n",
    "- Try to balance speed with accuracy \n",
    "    - Bounding boxes should be tight around the objects, but we can allow room for error during training so that a predicted box is counted as 'good' if it's close enough.    \n",
    "- It's important that objects aren't missed to avoid punishing the algorithm for making a correct determination.\n"
   ]
  },
  {
   "cell_type": "markdown",
   "metadata": {},
   "source": [
    "### Follow the README in the ANNOTATION directory to annotate images that will later be used as a test set.\n",
    "___"
   ]
  },
  {
   "cell_type": "markdown",
   "metadata": {},
   "source": [
    "## **DATASET ORGANIZATION**"
   ]
  },
  {
   "cell_type": "markdown",
   "metadata": {},
   "source": [
    "- The full annotated image dataset is split at least into a training and validation set; a test set is optional but ideal.\n",
    "- The algorithm learns on the training set, the validation set is used to evaluate its performance after each iteration. \n",
    "- Common train/val splits are 70/30 or 80/20\n",
    "\n",
    "    - The **training set** should be a large, diverse set representing the range of images you expect to encounter\n",
    "    - The **validation set** should be representative of the objects you want to detect (don't use 100 images of flies and 2 images of bees if you need to find bees)\n",
    "    \n",
    "- Be careful to avoid including similar or the same images in the train and val sets\n",
    "    - With event-based datasets, such as the fly and camera trap sets, a temporal split is best, e.g. the first 7 days are the training set, the last 3 days are the val set. A random 70/30 split could end up including similar images a few seconds apart in either set.\n",
    "    - A random split works well for images that are entirely independent, such as the cocoon dataset. In this instance you could apply k-fold cross validation, which systematically trains the model on different train/val splits and averages the performance."
   ]
  },
  {
   "cell_type": "markdown",
   "metadata": {},
   "source": []
  },
  {
   "cell_type": "markdown",
   "metadata": {},
   "source": []
  }
 ],
 "metadata": {
  "language_info": {
   "name": "python"
  }
 },
 "nbformat": 4,
 "nbformat_minor": 2
}
