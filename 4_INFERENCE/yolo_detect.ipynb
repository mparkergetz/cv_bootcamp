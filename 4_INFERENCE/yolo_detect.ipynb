{
 "cells": [
  {
   "cell_type": "markdown",
   "metadata": {},
   "source": [
    "# Run inference\n",
    "\n",
    "If you'd like to try running your model on multiple imgs in a dir, this script will save the output imgs to a new output dir. "
   ]
  },
  {
   "cell_type": "code",
   "execution_count": null,
   "metadata": {},
   "outputs": [],
   "source": [
    "import os\n",
    "from PIL import Image\n",
    "from ultralytics import model"
   ]
  },
  {
   "cell_type": "code",
   "execution_count": null,
   "metadata": {},
   "outputs": [],
   "source": [
    "imgs_filepath = ''\n",
    "output_filepath = ''\n",
    "\n",
    "pred_files = os.listdir(imgs_filepath)\n",
    "pred_files = [x for x in pred_files if x[-3:] == 'jpg']\n",
    "print(pred_files)\n",
    "\n",
    "for f in pred_files:\n",
    "    results = model(os.path.join(imgs_filepath, f))\n",
    "    for r in results:\n",
    "        im_array = r.plot()  # plot a BGR numpy array of predictions\n",
    "        im = Image.fromarray(im_array[..., ::-1])  # RGB PIL image\n",
    "        im.save(os.path.join(output_filepath, f))  # save image\n"
   ]
  }
 ],
 "metadata": {
  "language_info": {
   "name": "python"
  }
 },
 "nbformat": 4,
 "nbformat_minor": 2
}
